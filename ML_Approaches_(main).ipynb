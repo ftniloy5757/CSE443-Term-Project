{
  "nbformat": 4,
  "nbformat_minor": 0,
  "metadata": {
    "colab": {
      "provenance": []
    },
    "kernelspec": {
      "name": "python3",
      "display_name": "Python 3"
    },
    "language_info": {
      "name": "python"
    }
  },
  "cells": [
    {
      "cell_type": "code",
      "source": [
        "### Python Code (Core ML Pipeline)\n",
        "import pandas as pd\n",
        "import numpy as np\n",
        "from sklearn.model_selection import train_test_split, cross_val_score\n",
        "from sklearn.linear_model import LogisticRegression\n",
        "from sklearn.svm import SVC\n",
        "from xgboost import XGBClassifier\n",
        "from sklearn.metrics import roc_auc_score, roc_curve, classification_report\n",
        "\n",
        "\n",
        "# Load DEG matrix (after DESeq2 output)\n",
        "data = pd.read_csv(\"degs_expression_matrix.csv\")\n",
        "X = data.drop(\"label\", axis=1) # features\n",
        "y = data[\"label\"] # 0 = Control, 1 = PCOS\n",
        "\n",
        "\n",
        "# Train-test split\n",
        "X_train, X_test, y_train, y_test = train_test_split(X, y, test_size=0.3, random_state=42)\n",
        "\n",
        "\n",
        "# LASSO Logistic Regression\n",
        "lasso = LogisticRegression(penalty='l1', solver='saga', max_iter=5000)\n",
        "lasso.fit(X_train, y_train)\n",
        "y_pred_lasso = lasso.predict(X_test)\n",
        "print(\"LASSO AUC:\", roc_auc_score(y_test, lasso.predict_proba(X_test)[:,1]))\n",
        "\n",
        "\n",
        "# Support Vector Machine\n",
        "svm = SVC(kernel='linear', probability=True)\n",
        "svm.fit(X_train, y_train)\n",
        "y_pred_svm = svm.predict_proba(X_test)[:,1] # predict_proba returns probabilities, we need the probability of the positive class (index 1)\n",
        "print(\"SVM AUC:\", roc_auc_score(y_test, y_pred_svm))\n",
        "\n",
        "\n",
        "# XGBoost\n",
        "xgb = XGBClassifier(use_label_encoder=False, eval_metric='logloss')\n",
        "xgb.fit(X_train, y_train)\n",
        "y_pred_xgb = xgb.predict_proba(X_test)[:,1] # predict_proba returns probabilities, we need the probability of the positive class (index 1)\n",
        "print(\"XGBoost AUC:\", roc_auc_score(y_test, y_pred_xgb))"
      ],
      "metadata": {
        "colab": {
          "base_uri": "https://localhost:8080/"
        },
        "id": "h2oybPlxNkkr",
        "outputId": "4e23eec5-a5d6-4570-96bf-a83c6d0c9088"
      },
      "execution_count": null,
      "outputs": [
        {
          "output_type": "stream",
          "name": "stdout",
          "text": [
            "LASSO AUC: 1.0\n",
            "SVM AUC: 1.0\n"
          ]
        },
        {
          "output_type": "stream",
          "name": "stderr",
          "text": [
            "/usr/local/lib/python3.12/dist-packages/xgboost/training.py:183: UserWarning: [10:28:06] WARNING: /workspace/src/learner.cc:738: \n",
            "Parameters: { \"use_label_encoder\" } are not used.\n",
            "\n",
            "  bst.update(dtrain, iteration=i, fobj=obj)\n"
          ]
        },
        {
          "output_type": "stream",
          "name": "stdout",
          "text": [
            "XGBoost AUC: 1.0\n"
          ]
        }
      ]
    },
    {
      "cell_type": "code",
      "source": [
        "### Python Code (cross-validation)\n",
        "import pandas as pd\n",
        "import numpy as np\n",
        "from sklearn.model_selection import train_test_split, cross_val_score, StratifiedKFold\n",
        "from sklearn.linear_model import LogisticRegression\n",
        "from sklearn.svm import SVC\n",
        "from xgboost import XGBClassifier\n",
        "from sklearn.metrics import roc_auc_score, roc_curve, classification_report\n",
        "\n",
        "# Load DEG matrix (after DESeq2 output)\n",
        "data = pd.read_csv(\"degs_expression_matrix.csv\")\n",
        "# Drop the 'Unnamed: 0' column if it exists, as it seems to be an artifact from saving/loading\n",
        "if 'Unnamed: 0' in data.columns:\n",
        "    data = data.drop('Unnamed: 0', axis=1)\n",
        "\n",
        "X = data.drop(\"label\", axis=1)  # features\n",
        "y = data[\"label\"]  # 0 = Control, 1 = PCOS\n",
        "\n",
        "# Train-test split (still useful for a final evaluation, but cross-validation is better for model selection)\n",
        "X_train, X_test, y_train, y_test = train_test_split(X, y, test_size=0.3, random_state=42, stratify=y) # Use stratify for balanced splits\n",
        "\n",
        "# Initialize models\n",
        "lasso = LogisticRegression(penalty='l1', solver='saga', max_iter=5000)\n",
        "svm = SVC(kernel='linear', probability=True)\n",
        "xgb = XGBClassifier(use_label_encoder=False, eval_metric='logloss')\n",
        "\n",
        "# Perform cross-validation\n",
        "# Using StratifiedKFold to ensure folds have representative proportions of classes\n",
        "cv = StratifiedKFold(n_splits=5, shuffle=True, random_state=42) # Using 5 splits for cross-validation\n",
        "\n",
        "print(\"Cross-validation AUC scores:\")\n",
        "\n",
        "# LASSO Logistic Regression Cross-validation\n",
        "lasso_cv_scores = cross_val_score(lasso, X, y, cv=cv, scoring='roc_auc')\n",
        "print(f\"LASSO (CV) AUC: Mean={np.mean(lasso_cv_scores):.4f}, Std={np.std(lasso_cv_scores):.4f}\")\n",
        "\n",
        "# Support Vector Machine Cross-validation\n",
        "svm_cv_scores = cross_val_score(svm, X, y, cv=cv, scoring='roc_auc')\n",
        "print(f\"SVM (CV) AUC: Mean={np.mean(svm_cv_scores):.4f}, Std={np.std(svm_cv_scores):.4f}\")\n",
        "\n",
        "# XGBoost Cross-validation\n",
        "xgb_cv_scores = cross_val_score(xgb, X, y, cv=cv, scoring='roc_auc')\n",
        "print(f\"XGBoost (CV) AUC: Mean={np.mean(xgb_cv_scores):.4f}, Std={np.std(xgb_cv_scores):.4f}\")\n",
        "\n",
        "# Optional: You can still evaluate on the test set for comparison\n",
        "# print(\"\\nTest set AUC scores:\")\n",
        "# print(\"LASSO AUC:\", roc_auc_score(y_test, lasso.predict_proba(X_test)[:,1]))\n",
        "# print(\"SVM AUC:\", roc_auc_score(y_test, svm.predict_proba(X_test)[:,1]))\n",
        "# print(\"XGBoost AUC:\", roc_auc_score(y_test, xgb.predict_proba(X_test)[:,1]))\n",
        "\n",
        "# Further steps to address overfitting and model interpretation can follow,\n",
        "# such as feature selection based on cross-validation, or model interpretation\n",
        "# techniques (e.g., examining LASSO coefficients or XGBoost feature importances)."
      ],
      "metadata": {
        "colab": {
          "base_uri": "https://localhost:8080/"
        },
        "id": "p1sfJ81eCX5f",
        "outputId": "c0e1ec6a-f494-4ae5-8e19-2b84ae2c4ff8"
      },
      "execution_count": null,
      "outputs": [
        {
          "output_type": "stream",
          "name": "stdout",
          "text": [
            "Cross-validation AUC scores:\n",
            "LASSO (CV) AUC: Mean=1.0000, Std=0.0000\n",
            "SVM (CV) AUC: Mean=1.0000, Std=0.0000\n"
          ]
        },
        {
          "output_type": "stream",
          "name": "stderr",
          "text": [
            "/usr/local/lib/python3.12/dist-packages/xgboost/training.py:183: UserWarning: [09:36:02] WARNING: /workspace/src/learner.cc:738: \n",
            "Parameters: { \"use_label_encoder\" } are not used.\n",
            "\n",
            "  bst.update(dtrain, iteration=i, fobj=obj)\n",
            "/usr/local/lib/python3.12/dist-packages/xgboost/training.py:183: UserWarning: [09:36:07] WARNING: /workspace/src/learner.cc:738: \n",
            "Parameters: { \"use_label_encoder\" } are not used.\n",
            "\n",
            "  bst.update(dtrain, iteration=i, fobj=obj)\n",
            "/usr/local/lib/python3.12/dist-packages/xgboost/training.py:183: UserWarning: [09:36:10] WARNING: /workspace/src/learner.cc:738: \n",
            "Parameters: { \"use_label_encoder\" } are not used.\n",
            "\n",
            "  bst.update(dtrain, iteration=i, fobj=obj)\n",
            "/usr/local/lib/python3.12/dist-packages/xgboost/training.py:183: UserWarning: [09:36:13] WARNING: /workspace/src/learner.cc:738: \n",
            "Parameters: { \"use_label_encoder\" } are not used.\n",
            "\n",
            "  bst.update(dtrain, iteration=i, fobj=obj)\n",
            "/usr/local/lib/python3.12/dist-packages/xgboost/training.py:183: UserWarning: [09:36:18] WARNING: /workspace/src/learner.cc:738: \n",
            "Parameters: { \"use_label_encoder\" } are not used.\n",
            "\n",
            "  bst.update(dtrain, iteration=i, fobj=obj)\n"
          ]
        },
        {
          "output_type": "stream",
          "name": "stdout",
          "text": [
            "XGBoost (CV) AUC: Mean=0.9500, Std=0.1000\n"
          ]
        }
      ]
    }
  ]
}